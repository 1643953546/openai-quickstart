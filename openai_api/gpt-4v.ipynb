{
 "cells": [
  {
   "cell_type": "markdown",
   "id": "b4b6a552-b7f0-433d-9a70-61c4fcc52d5d",
   "metadata": {},
   "source": [
    "# 快速入门 GPT-4 Vison\n",
    "\n",
    "从历史上看，语言模型系统仅接受**文本**作为输入。但是单一的输入形式，限制了大模型的应用落地范围。\n",
    "\n",
    "随着技术发展，OpenAI 开发的 GPT-4 Turbo with Vision（简称 GPT-4V）允许模型接收**图像**作为输入，并回答关于它们的问题。\n",
    "\n",
    "📢注意，目前在 Assistants API 中使用 GPT-4 时还不支持图像输入。"
   ]
  },
  {
   "cell_type": "markdown",
   "id": "3a701c56-0a2a-4dea-b458-234150b84ff2",
   "metadata": {},
   "source": [
    "## 使用 GPT-4V 识别线上图像（URL）\n",
    "\n",
    "![image_sample](https://upload.wikimedia.org/wikipedia/commons/thumb/d/dd/Gfp-wisconsin-madison-the-nature-boardwalk.jpg/2560px-Gfp-wisconsin-madison-the-nature-boardwalk.jpg)"
   ]
  },
  {
   "cell_type": "code",
   "execution_count": 1,
   "id": "bf8689b2-94f2-4a35-a332-9ffed0a56aca",
   "metadata": {},
   "outputs": [
    {
     "name": "stdout",
     "output_type": "stream",
     "text": [
      "Choice(finish_reason='stop', index=0, logprobs=None, message=ChatCompletionMessage(content='这幅图片展示了一条穿越郁郁葱葱的草地的木板路。图片中，天空呈现出美丽的蓝色和白色云朵，草地覆盖着鲜绿色的植被。木板路直线延伸，在草丛中开辟出一条通道，引导视线深入画面。这样的场景通常给人一种平静和放松的感觉，可能是一个适合散步或自然观察的地方。整个环境透露出自然和未被破坏的美感，非常适合欣赏户外风光和享受宁静时刻。', role='assistant', function_call=None, tool_calls=None))\n"
     ]
    }
   ],
   "source": [
    "from openai import OpenAI\n",
    "\n",
    "client = OpenAI(api_key='sk-50CS5aC9XCnMshTI18840fDc3bB3480082418e61064c7c88',\n",
    "    base_url='https://api.xiaoai.plus/v1' )\n",
    "\n",
    "response = client.chat.completions.create(\n",
    "  model=\"gpt-4-turbo\",\n",
    "  messages=[\n",
    "    {\n",
    "      \"role\": \"user\",\n",
    "      \"content\": [\n",
    "        {\"type\": \"text\", \"text\": \"介绍下这幅图?\"},\n",
    "        {\n",
    "          \"type\": \"image_url\",\n",
    "          \"image_url\": {\n",
    "            \"url\": \"https://upload.wikimedia.org/wikipedia/commons/thumb/d/dd/Gfp-wisconsin-madison-the-nature-boardwalk.jpg/2560px-Gfp-wisconsin-madison-the-nature-boardwalk.jpg\",\n",
    "          },\n",
    "        },\n",
    "      ],\n",
    "    }\n",
    "  ],\n",
    "  max_tokens=300,\n",
    ")\n",
    "\n",
    "print(response.choices[0])"
   ]
  },
  {
   "cell_type": "code",
   "execution_count": 4,
   "id": "9bcc9026-7485-428f-8269-ea9ae41405cb",
   "metadata": {},
   "outputs": [
    {
     "data": {
      "text/plain": [
       "'这幅图片展示了一条穿越郁郁葱葱的草地的木板路。图片中，天空呈现出美丽的蓝色和白色云朵，草地覆盖着鲜绿色的植被。木板路直线延伸，在草丛中开辟出一条通道，引导视线深入画面。这样的场景通常给人一种平静和放松的感觉，可能是一个适合散步或自然观察的地方。整个环境透露出自然和未被破坏的美感，非常适合欣赏户外风光和享受宁静时刻。'"
      ]
     },
     "execution_count": 4,
     "metadata": {},
     "output_type": "execute_result"
    }
   ],
   "source": [
    "response.choices[0].message.content"
   ]
  },
  {
   "cell_type": "markdown",
   "id": "7fb50a14-fa14-4c63-9f81-b98b0f65d9d9",
   "metadata": {},
   "source": [
    "### 封装成一个函数 query_image_description"
   ]
  },
  {
   "cell_type": "code",
   "execution_count": 5,
   "id": "c1ca5428-c7e1-4d7e-91f1-d4a05e95ac51",
   "metadata": {},
   "outputs": [],
   "source": [
    "def query_image_description(url, prompt=\"介绍下这幅图?\"):\n",
    "    client = OpenAI(api_key='sk-50CS5aC9XCnMshTI18840fDc3bB3480082418e61064c7c88',\n",
    "    base_url='https://api.xiaoai.plus/v1' )  # 初始化 OpenAI 客户端\n",
    "    \n",
    "    # 发送请求给 OpenAI 的聊天模型\n",
    "    response = client.chat.completions.create(\n",
    "        model=\"gpt-4-turbo\",  # 指定使用的模型\n",
    "        messages=[\n",
    "            {\n",
    "                \"role\": \"user\",\n",
    "                \"content\": [\n",
    "                    {\"type\": \"text\", \"text\": prompt},\n",
    "                    {\"type\": \"image_url\", \"image_url\": {\"url\": url}},\n",
    "                ],\n",
    "            }\n",
    "        ],\n",
    "        max_tokens=300,\n",
    "    )\n",
    "    \n",
    "    # 返回模型的响应\n",
    "    return response.choices[0].message.content\n"
   ]
  },
  {
   "cell_type": "markdown",
   "id": "a0d0aceb-7cc5-4da1-b6db-e47716ba145a",
   "metadata": {},
   "source": [
    "### 调用函数测试\n",
    "\n",
    "![meme_0](https://p6.itc.cn/q_70/images03/20200602/0c267a0d3d814c9783659eb956969ba1.jpeg)"
   ]
  },
  {
   "cell_type": "code",
   "execution_count": 8,
   "id": "454abb5c-49d3-42e6-867e-f44e25af5e0e",
   "metadata": {},
   "outputs": [
    {
     "name": "stdout",
     "output_type": "stream",
     "text": [
      "这是一幅搞笑的图片，用以展现两只喜悦犬（Shiba Inu）的对比图。左边的狗被赋予了夸张的人类健身者的身体，图标说明这是“16岁的我”，配文有“我刚洗个澡”，“奖我一口奶酪”，“身体棒棒哒”和“人心叵测的大都市”。\n",
      "\n",
      "右边的狗则显得更为普通和沮丧，标识为“工作后的我”，配文包括“好累脑子晕”，“好想躺懒椅”等，表达了一种工作后的疲惫与无力感。\n",
      "\n",
      "整个图片通过幽默的方式表达了生活中工作与年轻时的对比，展示了日常压力与岁月变化对一个人（或在这里是狗）的影响。\n"
     ]
    }
   ],
   "source": [
    "image_url = \"https://p6.itc.cn/q_70/images03/20200602/0c267a0d3d814c9783659eb956969ba1.jpeg\"\n",
    "content = query_image_description(image_url)\n",
    "print(content)"
   ]
  },
  {
   "cell_type": "code",
   "execution_count": null,
   "id": "2471306a-84e2-4793-b065-0741fbe57262",
   "metadata": {},
   "outputs": [],
   "source": []
  },
  {
   "cell_type": "code",
   "execution_count": null,
   "id": "af79850f-83b5-49c4-a3f3-f2c01a28f458",
   "metadata": {},
   "outputs": [],
   "source": []
  },
  {
   "cell_type": "markdown",
   "id": "63ae05bd-872c-4638-8259-df4f420aaa1d",
   "metadata": {},
   "source": [
    "### 使用 GPT-4V 识别本地图像文件（Base64编码）\n"
   ]
  },
  {
   "cell_type": "code",
   "execution_count": 1,
   "id": "1e83da68-d387-46da-8236-78fc607d1fab",
   "metadata": {},
   "outputs": [],
   "source": [
    "from openai import OpenAI\n",
    "import base64\n",
    "import requests\n",
    "import json\n",
    "\n",
    "client = OpenAI(base_url='https://api.xiaoai.plus/v1' )  # 初始化 OpenAI 客户端\n",
    "\n",
    "def query_base64_image_description(image_path, prompt=\"解释下图片中的内容\", max_tokens=1000):\n",
    "\n",
    "    # 实现 Base64 编码\n",
    "    def encode_image(path):\n",
    "        with open(path, \"rb\") as image_file:\n",
    "            return base64.b64encode(image_file.read()).decode('utf-8')\n",
    "\n",
    "    # 获取图像的 Base64 编码字符串\n",
    "    base64_image = encode_image(image_path)\n",
    "\n",
    "    # 构造请求的 HTTP Header\n",
    "    headers = {\n",
    "        \"Content-Type\": \"application/json\",\n",
    "        \"Authorization\": f\"Bearer {client.api_key}\"\n",
    "    }\n",
    "\n",
    "    # 构造请求的负载\n",
    "    payload = {\n",
    "        \"model\": \"gpt-4-turbo\",\n",
    "        \"messages\": [\n",
    "            {\n",
    "                \"role\": \"user\",\n",
    "                \"content\": [\n",
    "                    {\"type\": \"text\", \"text\": prompt},\n",
    "                    {\"type\": \"image_url\", \"image_url\": {\"url\": f\"data:image/jpeg;base64,{base64_image}\"}}\n",
    "                ]\n",
    "            }\n",
    "        ],\n",
    "        \"max_tokens\": max_tokens\n",
    "    }\n",
    "\n",
    "    # 发送 HTTP 请求\n",
    "    response = requests.post(\"https://api.xiaoai.plus/v1/chat/completions\", headers=headers, json=payload)\n",
    "\n",
    "    # 检查响应并提取所需的 content 字段\n",
    "    if response.status_code == 200:\n",
    "        response_data = response.json()\n",
    "        content = response_data['choices'][0]['message']['content']\n",
    "        return content\n",
    "    else:\n",
    "        return f\"Error: {response.status_code}, {response.text}\""
   ]
  },
  {
   "cell_type": "markdown",
   "id": "89dd0f99-8086-473f-80a4-497e6dd07c17",
   "metadata": {},
   "source": [
    "#### 使用 Assistants API生成的 GDP 40年对比曲线图\n",
    "\n",
    "![gdp_data](./images/gdp_1980_2020.jpg)"
   ]
  },
  {
   "cell_type": "code",
   "execution_count": 2,
   "id": "3c0e9063-e8d9-4bc1-ae60-ad0aa5bee32b",
   "metadata": {},
   "outputs": [
    {
     "name": "stdout",
     "output_type": "stream",
     "text": [
      "这张图表展示了从1980年到2020年美国、中国、日本和德国的国内生产总值（GDP）比较。横坐标表示年份，构成40年的时间跨度，纵坐标表示国内生产总值，单位是万亿美元。图中的不同颜色代表不同的国家：蓝色代表美国，红色代表中国，紫色代表日本，绿色代表德国。\n",
      "\n",
      "通过这个图表，我们可以观察到以下几点：\n",
      "1. **美国的GDP较高，增长趋势平稳上升。**\n",
      "2. **中国的GDP从1990年代中期开始显著增长，尤其在2000年之后增速非常快，逐渐接近甚至可能超越美国。**\n",
      "3. **日本的GDP在1990年代达到顶峰后有所波动，但整体而言较为平稳。**\n",
      "4. **德国的GDP增长较为稳定，但总体规模小于美国和中国。**\n",
      "\n",
      "这些数据有助于分析不同国家经济的发展趋势和世界经济格局的变化。\n"
     ]
    }
   ],
   "source": [
    "content = query_base64_image_description(\"./images/gdp_1980_2020.jpg\")\n",
    "print(content)"
   ]
  },
  {
   "cell_type": "markdown",
   "id": "6d18b227-32a6-4450-86bd-c99ad5c533b9",
   "metadata": {},
   "source": [
    "#### 使用 GPT-4V 识别手写体笔记\n",
    "\n",
    "![](./images/handwriting_0.jpg)"
   ]
  },
  {
   "cell_type": "code",
   "execution_count": 12,
   "id": "4193fa11-5edd-404c-9472-0cb8cc6799fc",
   "metadata": {},
   "outputs": [
    {
     "name": "stdout",
     "output_type": "stream",
     "text": [
      "这张图片是一本笔记本的一页，内容涉及深度学习相关的一些高级技术，特别是与自然语言处理和Transformer模型有关的调优方法。主要内容包括：\n",
      "\n",
      "1. **Prompt Tuning (FMT + Small Model)**：这是一种只调整模型输入部分（即提示部分，例如模型的开始输入）的方法。在这里并没有具体解释FMT是什么，但通常这指的是一些模型的输入处理方式。\n",
      "\n",
      "2. **Prefix Tuning**：在训练Transformer模型时，一种不调整整个模型而只调整输入序列前缀的技术，这可以帮助模型在处理特定类型数据时表现更好。\n",
      "\n",
      "3. **LoRA（Low-Rank Adaptation）技术简介**：这部分介绍了LoRA技术，即通过低秩矩阵分解来适应或调整Transformer模型的权重（W），从而不必对整个权重矩阵进行大规模修改，而只需更新一个较小的ΔW矩阵。该部分还提到了关于ΔW的计算方法，该方法是通过两个较小的矩阵A和B乘积来近似实现。\n",
      "\n",
      "4. **模型容量和空间消耗**：文中提到LoRA技术的存储要求，比如LAMA使用LoRA时大约是78GB，而Quora使用LoRA时大约是48GB。这显示了LoRA技术在处理大型数据集时相对较小的存储需求。\n",
      "\n",
      "这些内容显示了笔记的作者在探究如何有效地使用较少的资源来调整和优化深度学习模型，特别是在自然语言处理领域。\n"
     ]
    }
   ],
   "source": [
    "content = query_base64_image_description(\"./images/handwriting_0.jpg\")\n",
    "print(content)"
   ]
  },
  {
   "cell_type": "markdown",
   "id": "ca046601-018c-455c-ace2-41392cbda456",
   "metadata": {},
   "source": [
    "#### 在 Jupyter 标准输出中渲染 Markdown 格式内容"
   ]
  },
  {
   "cell_type": "code",
   "execution_count": 11,
   "id": "516ee35b-1337-4b22-aea2-ee0adb706098",
   "metadata": {},
   "outputs": [
    {
     "data": {
      "text/markdown": [
       "这张图片显示的是一本笔记本上手写的文字，内容主要涉及到自然语言处理（NLP）中的训练技术，如Prompt Tuning和LoRA技术。\n",
       "\n",
       "1. **Prompt Tuning（简要模型调整）**： 提到了使用Prompt Tuning来调整一个小型的Transformer模型。此处解释了输入X（由个别输入X1, X2, ..., Xn组成）。每个输入首先通过一个Embedding过程转换，然后通过Token变换。输出Y是通过矩阵W与转换后的输入X'之间的乘法得出。\n",
       "\n",
       "2. **Prefix Tuning：** 这部分说明了Prefix Tuning的过程，其中添加了前缀权重W_p到原始权重W_j中，得到新的权重W'用于生成输出Y。\n",
       "\n",
       "3. **LoRA调整技术**： 这部分涉及Linear Re-parameterization（线性重新参数化），通过调整矩阵ΔW（通过两个矩阵A和B的乘积表示）来修改权重W。这是一种节省参数调整的方法，使原有模型的W变为W+ΔW，这里也涉及到了一些矩阵运算和优化策略。\n",
       "\n",
       "其中还提到了两个案例分析的存储需求：“LLAMA”需要65GB，而经过LoRA调整的“QLLoRA”仅需要48GB。\n",
       "\n",
       "这些笔记对于理解NLP中一些先进的模型调整技术十分有用，尤其对于需要在资源受限的环境下部署NLP模型的研究人员或实践者。"
      ],
      "text/plain": [
       "<IPython.core.display.Markdown object>"
      ]
     },
     "metadata": {},
     "output_type": "display_data"
    }
   ],
   "source": [
    "from IPython.display import display, Markdown\n",
    "\n",
    "# 使用 display 和 Markdown 函数显示 Markdown 内容\n",
    "display(Markdown(content))"
   ]
  },
  {
   "cell_type": "markdown",
   "id": "877e4085-c3ca-4c45-87a0-02ced77e32be",
   "metadata": {},
   "source": [
    "![](./images/handwriting_1.jpg)"
   ]
  },
  {
   "cell_type": "code",
   "execution_count": 7,
   "id": "7c046958-aa7a-4066-88fa-4134869d9226",
   "metadata": {},
   "outputs": [
    {
     "ename": "NameError",
     "evalue": "name 'Markdown' is not defined",
     "output_type": "error",
     "traceback": [
      "\u001b[1;31m---------------------------------------------------------------------------\u001b[0m",
      "\u001b[1;31mNameError\u001b[0m                                 Traceback (most recent call last)",
      "Cell \u001b[1;32mIn[7], line 2\u001b[0m\n\u001b[0;32m      1\u001b[0m content \u001b[38;5;241m=\u001b[39m query_base64_image_description(\u001b[38;5;124m\"\u001b[39m\u001b[38;5;124m./images/handwriting_1.jpg\u001b[39m\u001b[38;5;124m\"\u001b[39m,\u001b[38;5;124m\"\u001b[39m\u001b[38;5;124m解释一下图片中的数学题和数学内容\u001b[39m\u001b[38;5;124m\"\u001b[39m)\n\u001b[1;32m----> 2\u001b[0m display(\u001b[43mMarkdown\u001b[49m(content))\n",
      "\u001b[1;31mNameError\u001b[0m: name 'Markdown' is not defined"
     ]
    }
   ],
   "source": [
    "content = query_base64_image_description(\"./images/handwriting_1.jpg\")\n",
    "display(Markdown(content))"
   ]
  },
  {
   "cell_type": "markdown",
   "id": "27af8e2b-7a18-4565-ae4d-d117a595ee8c",
   "metadata": {},
   "source": [
    "## Homework: \n",
    "\n",
    "\n",
    "### #1\n",
    "\n",
    "使用 GPT-4V 识别带有手写体文字的本地图像文件，分享结果。\n",
    "content = query_base64_image_description(\"./images/math.png\")\n",
    "print(content)\n",
    "\n",
    "### #2\n",
    "\n",
    "整合 `query_base64_image_description` 函数和 Markdown 格式渲染方法，使得输出结果更易阅读。"
   ]
  },
  {
   "cell_type": "code",
   "execution_count": 20,
   "id": "ea590872-ebcc-45fe-ab70-3432432d83c4",
   "metadata": {},
   "outputs": [],
   "source": [
    "##第一个作业:"
   ]
  },
  {
   "cell_type": "markdown",
   "id": "a6f9718a-ff72-478f-8777-309226d86e41",
   "metadata": {},
   "source": [
    "![](./images/math.png)"
   ]
  },
  {
   "cell_type": "code",
   "execution_count": 3,
   "id": "0909bf27-9c4a-498c-9fae-0f442062b9a8",
   "metadata": {},
   "outputs": [
    {
     "name": "stdout",
     "output_type": "stream",
     "text": [
      "这张图片包含了几个数学问题及其解法，下面我将逐个解释:\n",
      "\n",
      "1. 首部描述的是一个关于绝对值和二次方程的不等式问题。其中涉及的公式是 |ab-a|≥0, (b-1)^2=0, 由此导出 b=1, 但解析不完全，需要更多上下文来完全解决。\n",
      "\n",
      "2. 紧接着，展示了一个关于数列求和的问题，求和公式为从 x_1+x_2+x_3+...+x_206=x_206+1 + x_206+2+...+x_206+5, 相关于算术级数和级数的计算。\n",
      "\n",
      "3. 其次，提到了使用符号计算来解决系列等式问题，如 2=2×1, 2+4=6=2×3, 2+4+6=12=3×4, 2+4+6+8=20=4×5，这构成了一个关于等差数列求和的典型例子。\n",
      "\n",
      "4. 然后，讨论了幂的计算——包括找出满足特定条件的幂指数关系式。这一段内容考察如何使用指数法则来简化和求解幂运算相关的等式。\n",
      "\n",
      "5. 最后，底部列出的题目可能是对学生的一些具体的数学练习题，包括基础的代数运算和一个关于序列求和的练习，如 a_n=6d, 2+4+6+8+...+42, 典型的等差数列求和问题。\n",
      "\n",
      "以上总结了图片中的主要数学内容和问题。要完全解答这些数学问题，需要具体的条件和更多的数学工具和原理。\n"
     ]
    }
   ],
   "source": [
    "content = query_base64_image_description(\"./images/math.png\",\"解释一下图片中的数学题和答得数学内容\")\n",
    "print(content)"
   ]
  },
  {
   "cell_type": "code",
   "execution_count": null,
   "id": "4fa18554-509f-4539-bdaf-3b0c65eb6a6f",
   "metadata": {},
   "outputs": [],
   "source": [
    "回答:这张图片包含了几个数学问题及其解法，下面我将逐个解释:\n",
    "\n",
    "1. 首部描述的是一个关于绝对值和二次方程的不等式问题。其中涉及的公式是 |ab-a|≥0, (b-1)^2=0, 由此导出 b=1, 但解析不完全，需要更多上下文来完全解决。\n",
    "\n",
    "2. 紧接着，展示了一个关于数列求和的问题，求和公式为从 x_1+x_2+x_3+...+x_206=x_206+1 + x_206+2+...+x_206+5, 相关于算术级数和级数的计算。\n",
    "\n",
    "3. 其次，提到了使用符号计算来解决系列等式问题，如 2=2×1, 2+4=6=2×3, 2+4+6=12=3×4, 2+4+6+8=20=4×5，这构成了一个关于等差数列求和的典型例子。\n",
    "\n",
    "4. 然后，讨论了幂的计算——包括找出满足特定条件的幂指数关系式。这一段内容考察如何使用指数法则来简化和求解幂运算相关的等式。\n",
    "\n",
    "5. 最后，底部列出的题目可能是对学生的一些具体的数学练习题，包括基础的代数运算和一个关于序列求和的练习，如 a_n=6d, 2+4+6+8+...+42, 典型的等差数列求和问题。\n",
    "\n",
    "以上总结了图片中的主要数学内容和问题。要完全解答这些数学问题，需要具体的条件和更多的数学工具和原理。"
   ]
  },
  {
   "cell_type": "code",
   "execution_count": null,
   "id": "bdefe9b9-3e0f-4fd1-a442-c6dfc3b35143",
   "metadata": {},
   "outputs": [],
   "source": [
    "##第二个作业:"
   ]
  },
  {
   "cell_type": "code",
   "execution_count": 2,
   "id": "aa03d358-81b7-490b-a3bf-7e723479ef9b",
   "metadata": {},
   "outputs": [
    {
     "data": {
      "text/markdown": [
       "这是一段数学教材或提纲，涵盖了几个不同的数学概念和问题，主要包括了代数表达式、多项式等式以及他们的运算法则。下面简要解释图片中的内容：\n",
       "\n",
       "1. **等式解析与多项式求和**:\n",
       "   - 开头部分给出了复杂的式子，例如 `(ab-2)^2=0, (b-1)^2=0, bf(ka)=2-0-b`，这些是展示代数运算和变形。\n",
       "   - 给出了序列求和的公式：例如`1^3+2^3+...+(n-5)^3+(n-2)^3=200x_n`，实际上是要求序列的立方和。\n",
       "\n",
       "2. **示例计算**:\n",
       "   - 演示了简单的加法和乘法如 `2+2=2×2`，`2+4=2×3` 以及 `2+4+6=2×3`。\n",
       "   - 这些都是为了演示加法如何与乘法对应，很可能是为了教授初级数学概念。\n",
       "\n",
       "3. **乘法规律问题**:\n",
       "   - 提出了解决这种特定形式的数学问题的方法，例如，对于 n>=6 时, `2+4+6+...+2n=42`，和`n(n+1)=6⨉k+1⨉6^k+2`的求解方式。\n",
       "\n",
       "4. **幂运算**:\n",
       "   - 展示了不同的幂运算问题，如`3^2=1×8、5^2=8×2`等，这有助于学生理解幂的基本概念和操作。\n",
       "\n",
       "5. **不等式和方程求解**:\n",
       "   - 也提及了一些方程和不等式的求解方法，示例如何设置和解决这些类型的数学问题。\n",
       "\n",
       "图片中的内容是对一系列基本数学概念的介绍和练习题，适合用于学生的学习和巩固相关的数学知识。"
      ],
      "text/plain": [
       "<IPython.core.display.Markdown object>"
      ]
     },
     "metadata": {},
     "output_type": "display_data"
    }
   ],
   "source": [
    "from IPython.display import display, Markdown\n",
    "content = query_base64_image_description(\"./images/math.png\",\"解释一下图片中的数学题和答得数学内容\")\n",
    "display(Markdown(content))"
   ]
  },
  {
   "cell_type": "code",
   "execution_count": null,
   "id": "5ebb7dc4-63b5-42b6-8085-815ca057b8f9",
   "metadata": {},
   "outputs": [],
   "source": [
    "回答:这是一段数学教材或提纲，涵盖了几个不同的数学概念和问题，主要包括了代数表达式、多项式等式以及他们的运算法则。下面简要解释图片中的内容：\n",
    "\n",
    "等式解析与多项式求和:\n",
    "\n",
    "开头部分给出了复杂的式子，例如 (ab-2)^2=0, (b-1)^2=0, bf(ka)=2-0-b，这些是展示代数运算和变形。\n",
    "给出了序列求和的公式：例如1^3+2^3+...+(n-5)^3+(n-2)^3=200x_n，实际上是要求序列的立方和。\n",
    "示例计算:\n",
    "\n",
    "演示了简单的加法和乘法如 2+2=2×2，2+4=2×3 以及 2+4+6=2×3。\n",
    "这些都是为了演示加法如何与乘法对应，很可能是为了教授初级数学概念。\n",
    "乘法规律问题:\n",
    "\n",
    "提出了解决这种特定形式的数学问题的方法，例如，对于 n>=6 时, 2+4+6+...+2n=42，和n(n+1)=6⨉k+1⨉6^k+2的求解方式。\n",
    "幂运算:\n",
    "\n",
    "展示了不同的幂运算问题，如3^2=1×8、5^2=8×2等，这有助于学生理解幂的基本概念和操作。\n",
    "不等式和方程求解:\n",
    "\n",
    "也提及了一些方程和不等式的求解方法，示例如何设置和解决这些类型的数学问题。\n",
    "图片中的内容是对一系列基本数学概念的介绍和练习题，适合用于学生的学习和巩固相关的数学知识。"
   ]
  },
  {
   "cell_type": "code",
   "execution_count": null,
   "id": "95849bd5-578d-4164-b043-4fb3435a335b",
   "metadata": {},
   "outputs": [],
   "source": []
  }
 ],
 "metadata": {
  "kernelspec": {
   "display_name": "langchain",
   "language": "python",
   "name": "langchain"
  },
  "language_info": {
   "codemirror_mode": {
    "name": "ipython",
    "version": 3
   },
   "file_extension": ".py",
   "mimetype": "text/x-python",
   "name": "python",
   "nbconvert_exporter": "python",
   "pygments_lexer": "ipython3",
   "version": "3.12.3"
  }
 },
 "nbformat": 4,
 "nbformat_minor": 5
}
